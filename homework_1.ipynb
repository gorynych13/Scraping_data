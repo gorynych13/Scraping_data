{
 "cells": [
  {
   "cell_type": "markdown",
   "metadata": {},
   "source": [
    "1. Посмотреть документацию к API GitHub, разобраться как вывести список репозиториев для конкретного пользователя, сохранить JSON-вывод в файле *.json."
   ]
  },
  {
   "cell_type": "code",
   "execution_count": 1,
   "metadata": {},
   "outputs": [],
   "source": [
    "import requests\n",
    "import json\n",
    "from pprint import pprint"
   ]
  },
  {
   "cell_type": "code",
   "execution_count": 3,
   "metadata": {},
   "outputs": [
    {
     "name": "stdout",
     "output_type": "stream",
     "text": [
      "[{'html_url': 'https://github.com/gorynych13/algorithms_python',\n",
      "  'name': 'algorithms_python',\n",
      "  'url': 'https://api.github.com/repos/gorynych13/algorithms_python'},\n",
      " {'html_url': 'https://github.com/gorynych13/intromath',\n",
      "  'name': 'intromath',\n",
      "  'url': 'https://api.github.com/repos/gorynych13/intromath'},\n",
      " {'html_url': 'https://github.com/gorynych13/lessons',\n",
      "  'name': 'lessons',\n",
      "  'url': 'https://api.github.com/repos/gorynych13/lessons'},\n",
      " {'html_url': 'https://github.com/gorynych13/python_base',\n",
      "  'name': 'python_base',\n",
      "  'url': 'https://api.github.com/repos/gorynych13/python_base'},\n",
      " {'html_url': 'https://github.com/gorynych13/python_basic',\n",
      "  'name': 'python_basic',\n",
      "  'url': 'https://api.github.com/repos/gorynych13/python_basic'},\n",
      " {'html_url': 'https://github.com/gorynych13/python_for_dataSciense',\n",
      "  'name': 'python_for_dataSciense',\n",
      "  'url': 'https://api.github.com/repos/gorynych13/python_for_dataSciense'},\n",
      " {'html_url': 'https://github.com/gorynych13/theory_of_chance',\n",
      "  'name': 'theory_of_chance',\n",
      "  'url': 'https://api.github.com/repos/gorynych13/theory_of_chance'}]\n"
     ]
    }
   ],
   "source": [
    "main_link = 'https://api.github.com/users/gorynych13/repos'\n",
    "response = requests.get(main_link)\n",
    "data = json.loads(response.text)\n",
    "output = []\n",
    "\n",
    "for i in data:\n",
    "    name = i['name']\n",
    "    html_url = i['html_url']\n",
    "    url = i['url']\n",
    "    output.append({'name': name, 'html_url': html_url, 'url': url})\n",
    "\n",
    "pprint(output)\n",
    "\n",
    "with open(\"repos.json\", \"w\") as write_file:\n",
    "    json.dump(output, write_file)"
   ]
  },
  {
   "cell_type": "markdown",
   "metadata": {},
   "source": [
    "2. Изучить список открытых API. Найти среди них любое, требующее авторизацию (любого типа). Выполнить запросы к нему, пройдя авторизацию. Ответ сервера записать в файл."
   ]
  },
  {
   "cell_type": "code",
   "execution_count": 8,
   "metadata": {},
   "outputs": [
    {
     "name": "stdout",
     "output_type": "stream",
     "text": [
      "{'0': {'airline': 'U6',\n",
      "       'departure_at': '2020-02-27T12:35:00Z',\n",
      "       'expires_at': '2020-01-08T17:12:35Z',\n",
      "       'flight_number': 751,\n",
      "       'price': 9766,\n",
      "       'return_at': '2020-03-02T14:25:00Z'},\n",
      " '1': {'airline': 'W9',\n",
      "       'departure_at': '2020-02-11T14:15:00Z',\n",
      "       'expires_at': '2020-01-09T07:51:10Z',\n",
      "       'flight_number': 8126,\n",
      "       'price': 7214,\n",
      "       'return_at': '2020-02-18T22:30:00Z'},\n",
      " '2': {'airline': 'W6',\n",
      "       'departure_at': '2020-02-19T11:05:00Z',\n",
      "       'expires_at': '2020-01-09T07:26:17Z',\n",
      "       'flight_number': 2490,\n",
      "       'price': 7648,\n",
      "       'return_at': '2020-02-26T07:30:00Z'},\n",
      " '3': {'airline': 'W9',\n",
      "       'departure_at': '2020-02-10T14:15:00Z',\n",
      "       'expires_at': '2020-01-08T19:38:28Z',\n",
      "       'flight_number': 8126,\n",
      "       'price': 8907,\n",
      "       'return_at': '2020-02-17T15:45:00Z'}}\n"
     ]
    }
   ],
   "source": [
    "link = 'http://api.travelpayouts.com/v1/prices/cheap'\n",
    "origin = 'MOW'\n",
    "destination = 'PRG'\n",
    "depart_date = '2020-02'\n",
    "token = '8cb9342251de0f2d3f4e09debd9f477b'\n",
    "currency = 'RUB'\n",
    "\n",
    "params={'origin': origin, 'destination' : destination, 'depart_date' : depart_date, 'currency' : currency, 'token' : token}\n",
    "\n",
    "res = requests.get(link,params=params)\n",
    "\n",
    "if res.ok:\n",
    "    data = json.loads(res.text)\n",
    "    pprint(data['data']['PRG'])\n"
   ]
  },
  {
   "cell_type": "code",
   "execution_count": 21,
   "metadata": {},
   "outputs": [],
   "source": [
    "output = []\n",
    "for key, value in data['data']['PRG'].items():\n",
    "    price = value['price']\n",
    "    departure_at = value['departure_at']\n",
    "    return_at = value['return_at']\n",
    "    output.append({'Цена': price, 'Туда': departure_at , 'Обратно': return_at})\n",
    "\n",
    "with open(\"cheap-MOW-PRG.json\", \"w\") as write_file:\n",
    "    json.dump(output, write_file)"
   ]
  },
  {
   "cell_type": "code",
   "execution_count": null,
   "metadata": {},
   "outputs": [],
   "source": []
  }
 ],
 "metadata": {
  "kernelspec": {
   "display_name": "Python 3",
   "language": "python",
   "name": "python3"
  },
  "language_info": {
   "codemirror_mode": {
    "name": "ipython",
    "version": 3
   },
   "file_extension": ".py",
   "mimetype": "text/x-python",
   "name": "python",
   "nbconvert_exporter": "python",
   "pygments_lexer": "ipython3",
   "version": "3.7.0"
  }
 },
 "nbformat": 4,
 "nbformat_minor": 2
}
